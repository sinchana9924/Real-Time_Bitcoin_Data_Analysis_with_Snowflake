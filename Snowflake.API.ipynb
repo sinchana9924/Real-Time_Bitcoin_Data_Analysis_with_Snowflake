{
 "cells": [
  {
   "cell_type": "markdown",
   "id": "e0696cfd",
   "metadata": {},
   "source": [
    "# 📘 Snowflake.API.ipynb\n",
    "\n",
    "This notebook demonstrates how to use the modular functions defined in `bitcoin_utils.py` to interact with Snowflake and CoinGecko APIs. It covers real-time price fetching, inserting into Snowflake, historical data ingestion, and querying."
   ]
  },
  {
   "cell_type": "markdown",
   "id": "773a91ed",
   "metadata": {},
   "source": [
    "## 🧩 Import Utility Functions"
   ]
  },
  {
   "cell_type": "code",
   "execution_count": 3,
   "id": "2abf1751",
   "metadata": {
    "tags": []
   },
   "outputs": [],
   "source": [
    "from snowflake_utils import connect_to_snowflake, fetch_bitcoin_price, insert_price_to_snowflake, query_all_prices, load_historical_prices_to_snowflake"
   ]
  },
  {
   "cell_type": "markdown",
   "id": "77a55e23",
   "metadata": {},
   "source": [
    "## 🔌 Connect to Snowflake"
   ]
  },
  {
   "cell_type": "code",
   "execution_count": 6,
   "id": "db0f27e2",
   "metadata": {
    "tags": []
   },
   "outputs": [
    {
     "data": {
      "text/plain": [
       "<snowflake.connector.connection.SnowflakeConnection at 0x133632e90>"
      ]
     },
     "execution_count": 6,
     "metadata": {},
     "output_type": "execute_result"
    }
   ],
   "source": [
    "conn = connect_to_snowflake()\n",
    "conn"
   ]
  },
  {
   "cell_type": "markdown",
   "id": "90882195",
   "metadata": {},
   "source": [
    "## ⏱️ Fetch Real-Time Bitcoin Price"
   ]
  },
  {
   "cell_type": "code",
   "execution_count": 9,
   "id": "42a60f2b",
   "metadata": {
    "tags": []
   },
   "outputs": [
    {
     "data": {
      "text/plain": [
       "{'timestamp': '2025-04-21T12:47:26.720388', 'price': 87214}"
      ]
     },
     "execution_count": 9,
     "metadata": {},
     "output_type": "execute_result"
    }
   ],
   "source": [
    "btc = fetch_bitcoin_price()\n",
    "btc"
   ]
  },
  {
   "cell_type": "markdown",
   "id": "9c048060",
   "metadata": {},
   "source": [
    "## 💾 Insert Live BTC Price into Snowflake"
   ]
  },
  {
   "cell_type": "code",
   "execution_count": 12,
   "id": "7dcba58b",
   "metadata": {
    "tags": []
   },
   "outputs": [],
   "source": [
    "insert_price_to_snowflake(conn, btc)"
   ]
  },
  {
   "cell_type": "markdown",
   "id": "99b44f2b",
   "metadata": {},
   "source": [
    "## 📊 Query All Data from Snowflake"
   ]
  },
  {
   "cell_type": "code",
   "execution_count": 15,
   "id": "c2f38809",
   "metadata": {
    "tags": []
   },
   "outputs": [
    {
     "name": "stderr",
     "output_type": "stream",
     "text": [
      "/Users/sinchana/src/tutorials1/DATA605/Spring2025/projects/TutorTask56_Spring2025_Real-time_Bitcoin_Data_Analysis_with_Snowflake/snowflake_utils.py:49: UserWarning: pandas only supports SQLAlchemy connectable (engine/connection) or database string URI or sqlite3 DBAPI2 connection. Other DBAPI2 objects are not tested. Please consider using SQLAlchemy.\n",
      "  df = pd.read_sql(query, conn)\n"
     ]
    },
    {
     "data": {
      "text/html": [
       "<div>\n",
       "<style scoped>\n",
       "    .dataframe tbody tr th:only-of-type {\n",
       "        vertical-align: middle;\n",
       "    }\n",
       "\n",
       "    .dataframe tbody tr th {\n",
       "        vertical-align: top;\n",
       "    }\n",
       "\n",
       "    .dataframe thead th {\n",
       "        text-align: right;\n",
       "    }\n",
       "</style>\n",
       "<table border=\"1\" class=\"dataframe\">\n",
       "  <thead>\n",
       "    <tr style=\"text-align: right;\">\n",
       "      <th></th>\n",
       "      <th>price</th>\n",
       "    </tr>\n",
       "    <tr>\n",
       "      <th>timestamp</th>\n",
       "      <th></th>\n",
       "    </tr>\n",
       "  </thead>\n",
       "  <tbody>\n",
       "    <tr>\n",
       "      <th>2025-04-20 00:00:00.000000</th>\n",
       "      <td>85126.662443</td>\n",
       "    </tr>\n",
       "    <tr>\n",
       "      <th>2025-04-21 00:00:00.000000</th>\n",
       "      <td>85073.165449</td>\n",
       "    </tr>\n",
       "    <tr>\n",
       "      <th>2025-04-21 11:56:38.000000</th>\n",
       "      <td>86932.467723</td>\n",
       "    </tr>\n",
       "    <tr>\n",
       "      <th>2025-04-21 11:57:10.949561</th>\n",
       "      <td>86924.000000</td>\n",
       "    </tr>\n",
       "    <tr>\n",
       "      <th>2025-04-21 12:47:26.720388</th>\n",
       "      <td>87214.000000</td>\n",
       "    </tr>\n",
       "  </tbody>\n",
       "</table>\n",
       "</div>"
      ],
      "text/plain": [
       "                                   price\n",
       "timestamp                               \n",
       "2025-04-20 00:00:00.000000  85126.662443\n",
       "2025-04-21 00:00:00.000000  85073.165449\n",
       "2025-04-21 11:56:38.000000  86932.467723\n",
       "2025-04-21 11:57:10.949561  86924.000000\n",
       "2025-04-21 12:47:26.720388  87214.000000"
      ]
     },
     "execution_count": 15,
     "metadata": {},
     "output_type": "execute_result"
    }
   ],
   "source": [
    "df = query_all_prices()\n",
    "df.tail()"
   ]
  },
  {
   "cell_type": "markdown",
   "id": "6f7d79d3",
   "metadata": {},
   "source": [
    "## ⏳ Load 90-Day Historical Prices into Snowflake"
   ]
  },
  {
   "cell_type": "code",
   "execution_count": 18,
   "id": "8f880340",
   "metadata": {
    "tags": []
   },
   "outputs": [
    {
     "name": "stdout",
     "output_type": "stream",
     "text": [
      "Inserted 91 historical rows into bitcoin_prices.\n"
     ]
    }
   ],
   "source": [
    "load_historical_prices_to_snowflake()"
   ]
  },
  {
   "cell_type": "code",
   "execution_count": null,
   "id": "03377a24-d1a0-46c9-9d9e-27d22ac74fe1",
   "metadata": {},
   "outputs": [],
   "source": []
  }
 ],
 "metadata": {
  "kernelspec": {
   "display_name": "Python 3 (ipykernel)",
   "language": "python",
   "name": "python3"
  },
  "language_info": {
   "codemirror_mode": {
    "name": "ipython",
    "version": 3
   },
   "file_extension": ".py",
   "mimetype": "text/x-python",
   "name": "python",
   "nbconvert_exporter": "python",
   "pygments_lexer": "ipython3",
   "version": "3.11.4"
  }
 },
 "nbformat": 4,
 "nbformat_minor": 5
}
